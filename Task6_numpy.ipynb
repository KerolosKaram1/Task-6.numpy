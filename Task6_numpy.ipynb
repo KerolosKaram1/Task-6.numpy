{
  "nbformat": 4,
  "nbformat_minor": 0,
  "metadata": {
    "colab": {
      "provenance": []
    },
    "kernelspec": {
      "name": "python3",
      "display_name": "Python 3"
    },
    "language_info": {
      "name": "python"
    }
  },
  "cells": [
    {
      "cell_type": "markdown",
      "source": [
        "**1-Write a NumPy program to test whether none of the elements of a given array is zero.**"
      ],
      "metadata": {
        "id": "lSVFay0FC4n9"
      }
    },
    {
      "cell_type": "code",
      "source": [
        "import numpy as np\n"
      ],
      "metadata": {
        "id": "ZH5pw-au8T4a"
      },
      "execution_count": 5,
      "outputs": []
    },
    {
      "cell_type": "code",
      "execution_count": null,
      "metadata": {
        "colab": {
          "base_uri": "https://localhost:8080/"
        },
        "id": "A_gdPWXi9ZMH",
        "outputId": "ca609926-5ae3-4fb2-ce3a-a04ab93103f3"
      },
      "outputs": [
        {
          "output_type": "execute_result",
          "data": {
            "text/plain": [
              "False"
            ]
          },
          "metadata": {},
          "execution_count": 1
        }
      ],
      "source": [
        "\n",
        "arr=np.array([1,2,34,5,7,899,0,4,5,6,3])\n",
        "\n",
        "np.all(arr==0)\n",
        "\n"
      ]
    },
    {
      "cell_type": "markdown",
      "source": [
        "**2. Write a NumPy program to test whether any of the elements of a given array is non-zero.**"
      ],
      "metadata": {
        "id": "nVqot4hnb5X2"
      }
    },
    {
      "cell_type": "code",
      "source": [
        "\n",
        "arr1=np.array([1,2,34,5,7,899,0,4,5,6,3])\n",
        "\n",
        "np.any(arr1!=0)\n"
      ],
      "metadata": {
        "colab": {
          "base_uri": "https://localhost:8080/"
        },
        "id": "bZPzisYKb4Aa",
        "outputId": "5d4de8b2-ca1e-459b-ba36-25ce5c833d40"
      },
      "execution_count": null,
      "outputs": [
        {
          "output_type": "execute_result",
          "data": {
            "text/plain": [
              "True"
            ]
          },
          "metadata": {},
          "execution_count": 5
        }
      ]
    },
    {
      "cell_type": "markdown",
      "source": [
        "**Write a NumPy program to create an array of 10 zeros,10 ones, 10 fives.**"
      ],
      "metadata": {
        "id": "-9mY6slHmnU3"
      }
    },
    {
      "cell_type": "code",
      "source": [
        "\n",
        "zero_arr = np.zeros(10)\n",
        "one_arr = np.ones(10)\n",
        "five_arr = np.full(10,5)\n",
        "\n",
        "print(\"Array of 10 zeros:\")\n",
        "print(zero_arr)\n",
        "print(\"\\nArray of 10 ones:\")\n",
        "print(one_arr)\n",
        "print(\"\\nArray of 10 fives:\")\n",
        "print(five_arr)\n"
      ],
      "metadata": {
        "colab": {
          "base_uri": "https://localhost:8080/"
        },
        "id": "X8uJoc8OmnAB",
        "outputId": "907874f6-9535-43d6-9c1e-d430f1eea359"
      },
      "execution_count": null,
      "outputs": [
        {
          "output_type": "stream",
          "name": "stdout",
          "text": [
            "Array of 10 zeros:\n",
            "[0. 0. 0. 0. 0. 0. 0. 0. 0. 0.]\n",
            "\n",
            "Array of 10 ones:\n",
            "[1. 1. 1. 1. 1. 1. 1. 1. 1. 1.]\n",
            "\n",
            "Array of 10 fives:\n",
            "[5 5 5 5 5 5 5 5 5 5]\n"
          ]
        }
      ]
    },
    {
      "cell_type": "markdown",
      "source": [
        "**Write a NumPy program to create an array of the integers from 30 to70.**"
      ],
      "metadata": {
        "id": "fhb2R6Cv8axB"
      }
    },
    {
      "cell_type": "code",
      "source": [
        "arr=np.arange(30, 71)\n",
        "\n",
        "print(arr)\n"
      ],
      "metadata": {
        "colab": {
          "base_uri": "https://localhost:8080/"
        },
        "id": "BwpdQqlW6twu",
        "outputId": "42cf7ca6-6c6d-4645-e7f3-9c4d4836209d"
      },
      "execution_count": null,
      "outputs": [
        {
          "output_type": "stream",
          "name": "stdout",
          "text": [
            "[30 31 32 33 34 35 36 37 38 39 40 41 42 43 44 45 46 47 48 49 50 51 52 53\n",
            " 54 55 56 57 58 59 60 61 62 63 64 65 66 67 68 69 70]\n"
          ]
        }
      ]
    },
    {
      "cell_type": "markdown",
      "source": [
        "**Write a NumPy program to create a 3x3 identity matrix**"
      ],
      "metadata": {
        "id": "A65J6-Vj9Lxr"
      }
    },
    {
      "cell_type": "code",
      "source": [
        "np.identity(3)"
      ],
      "metadata": {
        "id": "RW4XafenmmgH",
        "colab": {
          "base_uri": "https://localhost:8080/"
        },
        "outputId": "815de816-1cd7-4e37-8c45-6a4567508fdc"
      },
      "execution_count": null,
      "outputs": [
        {
          "output_type": "execute_result",
          "data": {
            "text/plain": [
              "array([[1., 0., 0.],\n",
              "       [0., 1., 0.],\n",
              "       [0., 0., 1.]])"
            ]
          },
          "metadata": {},
          "execution_count": 10
        }
      ]
    },
    {
      "cell_type": "markdown",
      "source": [
        "**Write a NumPy program to generate a random number between 0 and 1**"
      ],
      "metadata": {
        "id": "QTfswZ08-Q7k"
      }
    },
    {
      "cell_type": "code",
      "source": [
        "np.random.rand()"
      ],
      "metadata": {
        "colab": {
          "base_uri": "https://localhost:8080/"
        },
        "id": "ERhKJxym-Qjq",
        "outputId": "caa7aefb-0bd8-45d9-e079-32c38b8397c6"
      },
      "execution_count": null,
      "outputs": [
        {
          "output_type": "execute_result",
          "data": {
            "text/plain": [
              "0.7759305298776757"
            ]
          },
          "metadata": {},
          "execution_count": 26
        }
      ]
    },
    {
      "cell_type": "markdown",
      "source": [
        "**Write a NumPy program to generate an array of 15 random numbers from a standard normal\n",
        "distribution**"
      ],
      "metadata": {
        "id": "SUZ8_wgI_U4D"
      }
    },
    {
      "cell_type": "code",
      "source": [
        "np.random.randn(15)"
      ],
      "metadata": {
        "colab": {
          "base_uri": "https://localhost:8080/"
        },
        "id": "klvycwGv_gOH",
        "outputId": "cd6d5e84-c7b1-4118-be9c-19db52ef19e7"
      },
      "execution_count": null,
      "outputs": [
        {
          "output_type": "execute_result",
          "data": {
            "text/plain": [
              "array([ 0.37618915,  1.87389364,  0.82489968, -0.41231271, -0.60799581,\n",
              "       -0.20284423, -1.05322931, -0.2568037 ,  2.16402568,  0.99696331,\n",
              "       -1.27752835,  0.7690472 , -0.4519732 ,  0.57343756, -1.02905996])"
            ]
          },
          "metadata": {},
          "execution_count": 27
        }
      ]
    },
    {
      "cell_type": "markdown",
      "source": [
        "**Write a NumPy program to create a vector with values ranging from 15 to 55 and print all values\n",
        "except the first and last.**"
      ],
      "metadata": {
        "id": "yQrjNs_FCpU0"
      }
    },
    {
      "cell_type": "code",
      "source": [
        "\n",
        "list = np.arange(15, 56)\n",
        "print(list[1:-1])"
      ],
      "metadata": {
        "colab": {
          "base_uri": "https://localhost:8080/"
        },
        "id": "U5d8VlIPCqDR",
        "outputId": "da0cdb19-f1f6-41c3-d174-a1877f7d525b"
      },
      "execution_count": null,
      "outputs": [
        {
          "output_type": "stream",
          "name": "stdout",
          "text": [
            "[16 17 18 19 20 21 22 23 24 25 26 27 28 29 30 31 32 33 34 35 36 37 38 39\n",
            " 40 41 42 43 44 45 46 47 48 49 50 51 52 53 54]\n"
          ]
        }
      ]
    },
    {
      "cell_type": "markdown",
      "source": [
        "**Write a NumPy program to create a vector of length 5 filled with arbitrary integers from 0 to 10**"
      ],
      "metadata": {
        "id": "8Mo3qLKODI2W"
      }
    },
    {
      "cell_type": "code",
      "source": [
        "np.random.randint(0,10,size=5)"
      ],
      "metadata": {
        "colab": {
          "base_uri": "https://localhost:8080/"
        },
        "id": "JD1oQQrhDKFg",
        "outputId": "48283c5d-63dd-44cf-935f-77ba921c673a"
      },
      "execution_count": null,
      "outputs": [
        {
          "output_type": "execute_result",
          "data": {
            "text/plain": [
              "array([1, 1, 2, 1, 4])"
            ]
          },
          "metadata": {},
          "execution_count": 33
        }
      ]
    },
    {
      "cell_type": "markdown",
      "source": [
        "**Write a NumPy program to create a 10x10 matrix, in which the elements on the borders will be equal\n",
        "to 1, and inside 0.**"
      ],
      "metadata": {
        "id": "BeQQUiqGEzWC"
      }
    },
    {
      "cell_type": "code",
      "source": [
        "arr=np.zeros(shape=(10,10))\n",
        "arr\n",
        "arr[0, :]= 1\n",
        "arr[:, 0]= 1\n",
        "arr[-1, :]= 1\n",
        "arr[:, -1]= 1\n",
        "arr"
      ],
      "metadata": {
        "colab": {
          "base_uri": "https://localhost:8080/"
        },
        "id": "R9iQyV_HEzKU",
        "outputId": "7e63f4b2-462f-4557-a832-13943db315d7"
      },
      "execution_count": null,
      "outputs": [
        {
          "output_type": "execute_result",
          "data": {
            "text/plain": [
              "array([[1., 1., 1., 1., 1., 1., 1., 1., 1., 1.],\n",
              "       [1., 0., 0., 0., 0., 0., 0., 0., 0., 1.],\n",
              "       [1., 0., 0., 0., 0., 0., 0., 0., 0., 1.],\n",
              "       [1., 0., 0., 0., 0., 0., 0., 0., 0., 1.],\n",
              "       [1., 0., 0., 0., 0., 0., 0., 0., 0., 1.],\n",
              "       [1., 0., 0., 0., 0., 0., 0., 0., 0., 1.],\n",
              "       [1., 0., 0., 0., 0., 0., 0., 0., 0., 1.],\n",
              "       [1., 0., 0., 0., 0., 0., 0., 0., 0., 1.],\n",
              "       [1., 0., 0., 0., 0., 0., 0., 0., 0., 1.],\n",
              "       [1., 1., 1., 1., 1., 1., 1., 1., 1., 1.]])"
            ]
          },
          "metadata": {},
          "execution_count": 43
        }
      ]
    },
    {
      "cell_type": "markdown",
      "source": [
        "**Write a NumPy program to create a 5x5 zero matrix with elements on the main diagonal equal to 1, 2,\n",
        "3, 4, 5**"
      ],
      "metadata": {
        "id": "ve_4ll8LYwxr"
      }
    },
    {
      "cell_type": "code",
      "source": [
        "\n",
        "np.diag([1,2,3,4,5])\n"
      ],
      "metadata": {
        "colab": {
          "base_uri": "https://localhost:8080/"
        },
        "id": "ZMVEF0b_YxqE",
        "outputId": "f3ba119a-f525-457e-f61e-303665c6da57"
      },
      "execution_count": 6,
      "outputs": [
        {
          "output_type": "execute_result",
          "data": {
            "text/plain": [
              "array([[1, 0, 0, 0, 0],\n",
              "       [0, 2, 0, 0, 0],\n",
              "       [0, 0, 3, 0, 0],\n",
              "       [0, 0, 0, 4, 0],\n",
              "       [0, 0, 0, 0, 5]])"
            ]
          },
          "metadata": {},
          "execution_count": 6
        }
      ]
    },
    {
      "cell_type": "markdown",
      "source": [
        "**Write a NumPy program to create a 4x4 matrix in which 0 and 1 are staggered, with zeros on the main\n",
        "diagonal.**"
      ],
      "metadata": {
        "id": "Vt1SBpYuawh4"
      }
    },
    {
      "cell_type": "code",
      "source": [
        "arr=np.zeros(shape=(4,4))\n",
        "arr\n",
        "arr[::2, 1::2] = 1\n",
        "arr[1::2, ::2] = 1\n",
        "arr"
      ],
      "metadata": {
        "colab": {
          "base_uri": "https://localhost:8080/"
        },
        "id": "vRIfrVOqawPi",
        "outputId": "83423f02-8e5d-4bd1-b630-9e94a0f52aaf"
      },
      "execution_count": null,
      "outputs": [
        {
          "output_type": "execute_result",
          "data": {
            "text/plain": [
              "array([[0., 1., 0., 1.],\n",
              "       [1., 0., 1., 0.],\n",
              "       [0., 1., 0., 1.],\n",
              "       [1., 0., 1., 0.]])"
            ]
          },
          "metadata": {},
          "execution_count": 7
        }
      ]
    },
    {
      "cell_type": "markdown",
      "source": [
        "**Write a NumPy program to create a one-dimensional array of forty pseudo-randomly generated values.\n",
        "Select**"
      ],
      "metadata": {
        "id": "3Tb35Wu4axx_"
      }
    },
    {
      "cell_type": "code",
      "source": [
        "np.random.seed(2)\n",
        "np.random.rand(40)"
      ],
      "metadata": {
        "id": "Sqhv1q_faugc",
        "colab": {
          "base_uri": "https://localhost:8080/"
        },
        "outputId": "0f2ed966-bac3-476f-da54-57163a16057a"
      },
      "execution_count": 27,
      "outputs": [
        {
          "output_type": "execute_result",
          "data": {
            "text/plain": [
              "array([0.4359949 , 0.02592623, 0.54966248, 0.43532239, 0.4203678 ,\n",
              "       0.33033482, 0.20464863, 0.61927097, 0.29965467, 0.26682728,\n",
              "       0.62113383, 0.52914209, 0.13457995, 0.51357812, 0.18443987,\n",
              "       0.78533515, 0.85397529, 0.49423684, 0.84656149, 0.07964548,\n",
              "       0.50524609, 0.0652865 , 0.42812233, 0.09653092, 0.12715997,\n",
              "       0.59674531, 0.226012  , 0.10694568, 0.22030621, 0.34982629,\n",
              "       0.46778748, 0.20174323, 0.64040673, 0.48306984, 0.50523672,\n",
              "       0.38689265, 0.79363745, 0.58000418, 0.1622986 , 0.70075235])"
            ]
          },
          "metadata": {},
          "execution_count": 27
        }
      ]
    },
    {
      "cell_type": "markdown",
      "source": [
        "**Write a NumPy program to extract all numbers from a given array which are less and greater than a\n",
        "specified number.**"
      ],
      "metadata": {
        "id": "r3bwuPFMavJ6"
      }
    },
    {
      "cell_type": "code",
      "source": [
        "arr = np.array([1,2,3,4,5])\n",
        "\n",
        "filt=arr>=4\n",
        "\n",
        "filt"
      ],
      "metadata": {
        "colab": {
          "base_uri": "https://localhost:8080/"
        },
        "id": "4gevemloW1sc",
        "outputId": "d0dfb635-8bda-41be-e59c-7539b3467d13"
      },
      "execution_count": 35,
      "outputs": [
        {
          "output_type": "execute_result",
          "data": {
            "text/plain": [
              "array([False, False, False,  True,  True])"
            ]
          },
          "metadata": {},
          "execution_count": 35
        }
      ]
    }
  ]
}